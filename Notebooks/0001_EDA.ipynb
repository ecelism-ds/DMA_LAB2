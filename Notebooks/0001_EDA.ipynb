{
 "cells": [
  {
   "cell_type": "markdown",
   "metadata": {},
   "source": [
    "# Importo librerias"
   ]
  },
  {
   "cell_type": "code",
   "execution_count": 1,
   "metadata": {},
   "outputs": [
    {
     "name": "stdout",
     "output_type": "stream",
     "text": [
      "El directorio de trabajo actual es: c:\\lab02\\DMA_LAB2\\Notebooks\n"
     ]
    }
   ],
   "source": [
    "import os\n",
    "\n",
    "# Obtener el directorio de trabajo actual\n",
    "current_working_directory = os.getcwd()\n",
    "\n",
    "# Mostrar el directorio de trabajo actual\n",
    "print(\"El directorio de trabajo actual es:\", current_working_directory)\n"
   ]
  },
  {
   "cell_type": "code",
   "execution_count": 2,
   "metadata": {},
   "outputs": [],
   "source": [
    "import numpy as np \n",
    "import pandas as pd \n",
    "# import cv2 #Para cargar/mostrar/procesar imagenes\n",
    "import json\n",
    "import glob #Para listar los archivos en una carpeta\n",
    "\n",
    "# Librerias propias (contienen los modelos)\n",
    "import model_metadata\n",
    "import model_sentiment\n",
    "\n"
   ]
  },
  {
   "cell_type": "markdown",
   "metadata": {},
   "source": [
    "# Codigo Auxiliar"
   ]
  },
  {
   "cell_type": "code",
   "execution_count": 3,
   "metadata": {},
   "outputs": [],
   "source": [
    "#Para borrar la cache de las librerias propias\n",
    "#import importlib\n",
    "#importlib.reload(model_sentiment)\n",
    "#importlib.reload(model_metadata)"
   ]
  },
  {
   "cell_type": "markdown",
   "metadata": {},
   "source": [
    "# Cargo archivos"
   ]
  },
  {
   "cell_type": "markdown",
   "metadata": {},
   "source": [
    "## Primer analisis:\n",
    "\n",
    "Cargo el dataset completo y para el ID **0a0e8c15b** cargo las imagenes que tiene, metadata de las imagenes y analisis de sentimiento de la descripcion."
   ]
  },
  {
   "cell_type": "code",
   "execution_count": 4,
   "metadata": {
    "tags": [
     "parameters"
    ]
   },
   "outputs": [],
   "source": [
    "#No ejecutar\n",
    "# Cargar CSV train de carpeta data/train/train.csv\n",
    "bandera = False\n",
    "if bandera:\n",
    "    train_data = pd.read_csv('../data/train/train.csv', index_col='PetID')\n",
    "    train_image_1 = cv2.imread('../data/train_images/0a0e8c15b-1.jpg')\n",
    "    train_image_2 = cv2.imread('../data/train_images/0a0e8c15b-2.jpg')\n",
    "    with open('../data/train_metadata/0a0e8c15b-1.json', 'r') as archivo:\n",
    "        # Carga el contenido del archivo JSON en un diccionario\n",
    "        train_metadata_1 = json.load(archivo)\n",
    "    with open('../data/train_metadata/0a0e8c15b-2.json', 'r') as archivo:\n",
    "        # Carga el contenido del archivo JSON en un diccionario\n",
    "        train_metadata_2 = json.load(archivo)\n",
    "    with open('../data/train_sentiment/0a0e8c15b.json', 'r') as archivo:\n",
    "        # Carga el contenido del archivo JSON en un diccionario\n",
    "        train_sentiment = json.load(archivo)"
   ]
  },
  {
   "cell_type": "markdown",
   "metadata": {},
   "source": [
    "Creo una funcion para importar los archivos json a una lista. Los archivos los modelo y los inserto en una lista."
   ]
  },
  {
   "cell_type": "code",
   "execution_count": 5,
   "metadata": {},
   "outputs": [],
   "source": [
    "def getModel(model, listFileFullPath):\n",
    "    '''model = clase del modelo que se quiere cargar (objeto)\n",
    "    listFullPath = ruta completa de los archivos a cargar (List[string])\n",
    "    '''\n",
    "    #f_train_metadata = glob.glob('../data/train_metadata/*.json')\n",
    "    #f_train_sentiments = glob.glob('../data/train_sentiment/*.json')\n",
    "\n",
    "    listObject = []\n",
    "    for file in listFileFullPath:\n",
    "        \n",
    "        file_json = None\n",
    "        objectModel = None\n",
    "        \n",
    "        with open(file, 'r') as archivo:\n",
    "            file_json = json.load(archivo)    \n",
    "\n",
    "        fileName = file.split('/')[-1]\n",
    "        file_json['fileName'] = fileName\n",
    "        file_json['PetID'] = fileName.split('.')[0].split('-')[0]\n",
    "        objectModel = model.Model(**file_json)\n",
    "        listObject.append(objectModel)\n",
    "\n",
    "    return listObject "
   ]
  },
  {
   "cell_type": "code",
   "execution_count": 7,
   "metadata": {},
   "outputs": [],
   "source": [
    "train_data = pd.read_csv('../data/train/train.csv', index_col='PetID')"
   ]
  },
  {
   "cell_type": "code",
   "execution_count": 8,
   "metadata": {},
   "outputs": [],
   "source": [
    "#train_data = pd.read_csv('../data/train/train.csv', index_col='PetID')\n",
    "f_train_metadata = glob.glob('../data/train_metadata/*.json')\n",
    "f_train_sentiments = glob.glob('../data/train_sentiment/*.json')\n",
    "\n",
    "list_metadata = getModel(model_metadata, f_train_metadata)\n",
    "list_sentiments = getModel(model_sentiment, f_train_sentiments)\n",
    "\n",
    "del f_train_metadata\n",
    "del f_train_sentiments"
   ]
  },
  {
   "cell_type": "markdown",
   "metadata": {},
   "source": [
    "## Unifico dataset e informacion extra\n",
    "\n",
    "En esta seccion vamos a agregar informacion exta al dataset original. Vamos a agregar las siguientes variables:\n",
    "\n",
    "De la imagen:\n",
    "\n",
    "1. Imagen? [SI/NO] Si la mascata tiene imagen 1 sino 0. **(LISTO)**\n",
    "2. ImagenCantidad Cantidad de imagenes que posee la mascota. **(LISTO)**\n",
    "\n",
    "Del Comentario:\n",
    "1. magnitude. **(LISTO)**\n",
    "2. score. **(LISTO)**\n",
    "3. Cantidad de sentencias. **(LISTO)**\n",
    "4. EntidadCantidad. **(LISTO)**\n",
    "5. Entidad por tipo (son varias columnas). **(PENDIENTE)**\n",
    "6. El nombre de la mascota figura como entidad?. **(PENDIENTE)**\n",
    "7. Idioma. **(PENDIENTE)**\n",
    "\n",
    "Datos descriptivos: **(PENDIENTE)**\n",
    "1. Agregar Beed\n",
    "2. Agregar Color\n",
    "3. Agregar PetFinder\n",
    "4. Agregar state\n"
   ]
  },
  {
   "cell_type": "markdown",
   "metadata": {},
   "source": [
    "## Creamos funciones para obtener propiedades de los modelos"
   ]
  },
  {
   "cell_type": "code",
   "execution_count": 9,
   "metadata": {},
   "outputs": [],
   "source": [
    "# Creo funciones para obtener datos de los modelos\n",
    "\n",
    "##Sirve para cualquiera de l0s dos modelos\n",
    "getPetID = lambda x: x.PetID\n",
    "getPetID_vec = np.vectorize(getPetID)\n",
    "\n",
    "#Solo para la modelo model_sentiment\n",
    "#1. magnitude\n",
    "#2. score\n",
    "#3. Cantidad de sentencias\n",
    "#4. EntidadCantidad\n",
    "\n",
    "getScore = lambda x: x.documentSentiment.score\n",
    "getScore_vec = np.vectorize(getScore)\n",
    "\n",
    "getMagnitude = lambda x: x.documentSentiment.magnitude\n",
    "getMagnitude_vec = np.vectorize(getMagnitude)\n",
    "\n",
    "getLenEntity = lambda x: len(x.entities)\n",
    "getLenEntity_vec = np.vectorize(getLenEntity)\n",
    "\n",
    "getLenSentences = lambda x: len(x.sentences)\n",
    "getLenSentences_vec = np.vectorize(getLenSentences)\n"
   ]
  },
  {
   "cell_type": "markdown",
   "metadata": {},
   "source": [
    "## Agregamos variables al dataset original"
   ]
  },
  {
   "cell_type": "code",
   "execution_count": 10,
   "metadata": {},
   "outputs": [],
   "source": [
    "#Si tiene o no metadata de la imagen\n",
    "train_data['Imagen?'] = train_data.index.isin(getPetID_vec(list_metadata))\n",
    "#Si tiene o no archivo sentiment\n",
    "train_data['sentiment?'] = train_data.index.isin(getPetID_vec(list_sentiments))\n",
    "\n",
    "#Busco la cantidad de imagenes y las agrego al DF original\n",
    "df = pd.DataFrame(getPetID_vec(list_metadata))\n",
    "df = df[0].value_counts()\n",
    "df.columns = ['PetID', 'CountImagen']\n",
    "train_data = train_data.join(df, on='PetID', how='left', lsuffix='_left', rsuffix='_right')\n",
    "del df\n",
    "\n",
    "#Agrego informacion de los archivo sentiment\n",
    "df = pd.DataFrame(\n",
    "        data = {'Score' : getScore_vec(list_sentiments).tolist()\n",
    "                ,'Magnitude' : getMagnitude_vec(list_sentiments).tolist()\n",
    "                ,'CountEntity' : getLenEntity_vec(list_sentiments).tolist()\n",
    "                ,'CountSentences' : getLenSentences_vec(list_sentiments).tolist()\n",
    "                }\n",
    "        , index=getPetID_vec(list_sentiments))\n",
    "\n",
    "df.index.name = 'PetID'\n",
    "\n",
    "train_data = train_data.join(df, on='PetID', how='left', lsuffix='_left', rsuffix='_right')\n",
    "del df\n"
   ]
  },
  {
   "cell_type": "markdown",
   "metadata": {},
   "source": [
    "# EDA"
   ]
  },
  {
   "cell_type": "code",
   "execution_count": 11,
   "metadata": {},
   "outputs": [
    {
     "data": {
      "text/html": [
       "<div>\n",
       "<style scoped>\n",
       "    .dataframe tbody tr th:only-of-type {\n",
       "        vertical-align: middle;\n",
       "    }\n",
       "\n",
       "    .dataframe tbody tr th {\n",
       "        vertical-align: top;\n",
       "    }\n",
       "\n",
       "    .dataframe thead th {\n",
       "        text-align: right;\n",
       "    }\n",
       "</style>\n",
       "<table border=\"1\" class=\"dataframe\">\n",
       "  <thead>\n",
       "    <tr style=\"text-align: right;\">\n",
       "      <th></th>\n",
       "      <th>Type</th>\n",
       "      <th>Name</th>\n",
       "      <th>Age</th>\n",
       "      <th>Breed1</th>\n",
       "      <th>Breed2</th>\n",
       "      <th>Gender</th>\n",
       "      <th>Color1</th>\n",
       "      <th>Color2</th>\n",
       "      <th>Color3</th>\n",
       "      <th>MaturitySize</th>\n",
       "      <th>...</th>\n",
       "      <th>Description</th>\n",
       "      <th>PhotoAmt</th>\n",
       "      <th>AdoptionSpeed</th>\n",
       "      <th>Imagen?</th>\n",
       "      <th>sentiment?</th>\n",
       "      <th>count</th>\n",
       "      <th>Score</th>\n",
       "      <th>Magnitude</th>\n",
       "      <th>CountEntity</th>\n",
       "      <th>CountSentences</th>\n",
       "    </tr>\n",
       "    <tr>\n",
       "      <th>PetID</th>\n",
       "      <th></th>\n",
       "      <th></th>\n",
       "      <th></th>\n",
       "      <th></th>\n",
       "      <th></th>\n",
       "      <th></th>\n",
       "      <th></th>\n",
       "      <th></th>\n",
       "      <th></th>\n",
       "      <th></th>\n",
       "      <th></th>\n",
       "      <th></th>\n",
       "      <th></th>\n",
       "      <th></th>\n",
       "      <th></th>\n",
       "      <th></th>\n",
       "      <th></th>\n",
       "      <th></th>\n",
       "      <th></th>\n",
       "      <th></th>\n",
       "      <th></th>\n",
       "    </tr>\n",
       "  </thead>\n",
       "  <tbody>\n",
       "    <tr>\n",
       "      <th>86e1089a3</th>\n",
       "      <td>2</td>\n",
       "      <td>Nibble</td>\n",
       "      <td>3</td>\n",
       "      <td>299</td>\n",
       "      <td>0</td>\n",
       "      <td>1</td>\n",
       "      <td>1</td>\n",
       "      <td>7</td>\n",
       "      <td>0</td>\n",
       "      <td>1</td>\n",
       "      <td>...</td>\n",
       "      <td>Nibble is a 3+ month old ball of cuteness. He ...</td>\n",
       "      <td>1.0</td>\n",
       "      <td>2</td>\n",
       "      <td>False</td>\n",
       "      <td>False</td>\n",
       "      <td>NaN</td>\n",
       "      <td>NaN</td>\n",
       "      <td>NaN</td>\n",
       "      <td>NaN</td>\n",
       "      <td>NaN</td>\n",
       "    </tr>\n",
       "    <tr>\n",
       "      <th>6296e909a</th>\n",
       "      <td>2</td>\n",
       "      <td>No Name Yet</td>\n",
       "      <td>1</td>\n",
       "      <td>265</td>\n",
       "      <td>0</td>\n",
       "      <td>1</td>\n",
       "      <td>1</td>\n",
       "      <td>2</td>\n",
       "      <td>0</td>\n",
       "      <td>2</td>\n",
       "      <td>...</td>\n",
       "      <td>I just found it alone yesterday near my apartm...</td>\n",
       "      <td>2.0</td>\n",
       "      <td>0</td>\n",
       "      <td>False</td>\n",
       "      <td>False</td>\n",
       "      <td>NaN</td>\n",
       "      <td>NaN</td>\n",
       "      <td>NaN</td>\n",
       "      <td>NaN</td>\n",
       "      <td>NaN</td>\n",
       "    </tr>\n",
       "    <tr>\n",
       "      <th>3422e4906</th>\n",
       "      <td>1</td>\n",
       "      <td>Brisco</td>\n",
       "      <td>1</td>\n",
       "      <td>307</td>\n",
       "      <td>0</td>\n",
       "      <td>1</td>\n",
       "      <td>2</td>\n",
       "      <td>7</td>\n",
       "      <td>0</td>\n",
       "      <td>2</td>\n",
       "      <td>...</td>\n",
       "      <td>Their pregnant mother was dumped by her irresp...</td>\n",
       "      <td>7.0</td>\n",
       "      <td>3</td>\n",
       "      <td>False</td>\n",
       "      <td>False</td>\n",
       "      <td>NaN</td>\n",
       "      <td>NaN</td>\n",
       "      <td>NaN</td>\n",
       "      <td>NaN</td>\n",
       "      <td>NaN</td>\n",
       "    </tr>\n",
       "    <tr>\n",
       "      <th>5842f1ff5</th>\n",
       "      <td>1</td>\n",
       "      <td>Miko</td>\n",
       "      <td>4</td>\n",
       "      <td>307</td>\n",
       "      <td>0</td>\n",
       "      <td>2</td>\n",
       "      <td>1</td>\n",
       "      <td>2</td>\n",
       "      <td>0</td>\n",
       "      <td>2</td>\n",
       "      <td>...</td>\n",
       "      <td>Good guard dog, very alert, active, obedience ...</td>\n",
       "      <td>8.0</td>\n",
       "      <td>2</td>\n",
       "      <td>False</td>\n",
       "      <td>False</td>\n",
       "      <td>NaN</td>\n",
       "      <td>NaN</td>\n",
       "      <td>NaN</td>\n",
       "      <td>NaN</td>\n",
       "      <td>NaN</td>\n",
       "    </tr>\n",
       "    <tr>\n",
       "      <th>850a43f90</th>\n",
       "      <td>1</td>\n",
       "      <td>Hunter</td>\n",
       "      <td>1</td>\n",
       "      <td>307</td>\n",
       "      <td>0</td>\n",
       "      <td>1</td>\n",
       "      <td>1</td>\n",
       "      <td>0</td>\n",
       "      <td>0</td>\n",
       "      <td>2</td>\n",
       "      <td>...</td>\n",
       "      <td>This handsome yet cute boy is up for adoption....</td>\n",
       "      <td>3.0</td>\n",
       "      <td>2</td>\n",
       "      <td>False</td>\n",
       "      <td>False</td>\n",
       "      <td>NaN</td>\n",
       "      <td>NaN</td>\n",
       "      <td>NaN</td>\n",
       "      <td>NaN</td>\n",
       "      <td>NaN</td>\n",
       "    </tr>\n",
       "    <tr>\n",
       "      <th>d24c30b4b</th>\n",
       "      <td>2</td>\n",
       "      <td>NaN</td>\n",
       "      <td>3</td>\n",
       "      <td>266</td>\n",
       "      <td>0</td>\n",
       "      <td>2</td>\n",
       "      <td>5</td>\n",
       "      <td>6</td>\n",
       "      <td>0</td>\n",
       "      <td>2</td>\n",
       "      <td>...</td>\n",
       "      <td>This is a stray kitten that came to my house. ...</td>\n",
       "      <td>2.0</td>\n",
       "      <td>2</td>\n",
       "      <td>False</td>\n",
       "      <td>False</td>\n",
       "      <td>NaN</td>\n",
       "      <td>NaN</td>\n",
       "      <td>NaN</td>\n",
       "      <td>NaN</td>\n",
       "      <td>NaN</td>\n",
       "    </tr>\n",
       "    <tr>\n",
       "      <th>1caa6fcdb</th>\n",
       "      <td>2</td>\n",
       "      <td>BULAT</td>\n",
       "      <td>12</td>\n",
       "      <td>264</td>\n",
       "      <td>264</td>\n",
       "      <td>1</td>\n",
       "      <td>1</td>\n",
       "      <td>0</td>\n",
       "      <td>0</td>\n",
       "      <td>2</td>\n",
       "      <td>...</td>\n",
       "      <td>anyone within the area of ipoh or taiping who ...</td>\n",
       "      <td>3.0</td>\n",
       "      <td>1</td>\n",
       "      <td>False</td>\n",
       "      <td>False</td>\n",
       "      <td>NaN</td>\n",
       "      <td>NaN</td>\n",
       "      <td>NaN</td>\n",
       "      <td>NaN</td>\n",
       "      <td>NaN</td>\n",
       "    </tr>\n",
       "    <tr>\n",
       "      <th>97aa9eeac</th>\n",
       "      <td>1</td>\n",
       "      <td>Siu Pak &amp; Her 6 Puppies</td>\n",
       "      <td>0</td>\n",
       "      <td>307</td>\n",
       "      <td>0</td>\n",
       "      <td>2</td>\n",
       "      <td>1</td>\n",
       "      <td>2</td>\n",
       "      <td>7</td>\n",
       "      <td>2</td>\n",
       "      <td>...</td>\n",
       "      <td>Siu Pak just give birth on 13/6/10 to 6puppies...</td>\n",
       "      <td>9.0</td>\n",
       "      <td>3</td>\n",
       "      <td>False</td>\n",
       "      <td>False</td>\n",
       "      <td>NaN</td>\n",
       "      <td>NaN</td>\n",
       "      <td>NaN</td>\n",
       "      <td>NaN</td>\n",
       "      <td>NaN</td>\n",
       "    </tr>\n",
       "    <tr>\n",
       "      <th>c06d167ca</th>\n",
       "      <td>2</td>\n",
       "      <td>NaN</td>\n",
       "      <td>2</td>\n",
       "      <td>265</td>\n",
       "      <td>0</td>\n",
       "      <td>2</td>\n",
       "      <td>6</td>\n",
       "      <td>0</td>\n",
       "      <td>0</td>\n",
       "      <td>2</td>\n",
       "      <td>...</td>\n",
       "      <td>healthy and active, feisty kitten found in nei...</td>\n",
       "      <td>6.0</td>\n",
       "      <td>1</td>\n",
       "      <td>False</td>\n",
       "      <td>False</td>\n",
       "      <td>NaN</td>\n",
       "      <td>NaN</td>\n",
       "      <td>NaN</td>\n",
       "      <td>NaN</td>\n",
       "      <td>NaN</td>\n",
       "    </tr>\n",
       "    <tr>\n",
       "      <th>7a0942d61</th>\n",
       "      <td>2</td>\n",
       "      <td>Kitty</td>\n",
       "      <td>12</td>\n",
       "      <td>265</td>\n",
       "      <td>0</td>\n",
       "      <td>2</td>\n",
       "      <td>1</td>\n",
       "      <td>7</td>\n",
       "      <td>0</td>\n",
       "      <td>2</td>\n",
       "      <td>...</td>\n",
       "      <td>Very manja and gentle stray cat found, we woul...</td>\n",
       "      <td>2.0</td>\n",
       "      <td>4</td>\n",
       "      <td>False</td>\n",
       "      <td>False</td>\n",
       "      <td>NaN</td>\n",
       "      <td>NaN</td>\n",
       "      <td>NaN</td>\n",
       "      <td>NaN</td>\n",
       "      <td>NaN</td>\n",
       "    </tr>\n",
       "  </tbody>\n",
       "</table>\n",
       "<p>10 rows × 30 columns</p>\n",
       "</div>"
      ],
      "text/plain": [
       "           Type                     Name  Age  Breed1  Breed2  Gender  Color1   \n",
       "PetID                                                                           \n",
       "86e1089a3     2                   Nibble    3     299       0       1       1  \\\n",
       "6296e909a     2              No Name Yet    1     265       0       1       1   \n",
       "3422e4906     1                   Brisco    1     307       0       1       2   \n",
       "5842f1ff5     1                     Miko    4     307       0       2       1   \n",
       "850a43f90     1                   Hunter    1     307       0       1       1   \n",
       "d24c30b4b     2                      NaN    3     266       0       2       5   \n",
       "1caa6fcdb     2                    BULAT   12     264     264       1       1   \n",
       "97aa9eeac     1  Siu Pak & Her 6 Puppies    0     307       0       2       1   \n",
       "c06d167ca     2                      NaN    2     265       0       2       6   \n",
       "7a0942d61     2                    Kitty   12     265       0       2       1   \n",
       "\n",
       "           Color2  Color3  MaturitySize  ...   \n",
       "PetID                                    ...   \n",
       "86e1089a3       7       0             1  ...  \\\n",
       "6296e909a       2       0             2  ...   \n",
       "3422e4906       7       0             2  ...   \n",
       "5842f1ff5       2       0             2  ...   \n",
       "850a43f90       0       0             2  ...   \n",
       "d24c30b4b       6       0             2  ...   \n",
       "1caa6fcdb       0       0             2  ...   \n",
       "97aa9eeac       2       7             2  ...   \n",
       "c06d167ca       0       0             2  ...   \n",
       "7a0942d61       7       0             2  ...   \n",
       "\n",
       "                                                 Description  PhotoAmt   \n",
       "PetID                                                                    \n",
       "86e1089a3  Nibble is a 3+ month old ball of cuteness. He ...       1.0  \\\n",
       "6296e909a  I just found it alone yesterday near my apartm...       2.0   \n",
       "3422e4906  Their pregnant mother was dumped by her irresp...       7.0   \n",
       "5842f1ff5  Good guard dog, very alert, active, obedience ...       8.0   \n",
       "850a43f90  This handsome yet cute boy is up for adoption....       3.0   \n",
       "d24c30b4b  This is a stray kitten that came to my house. ...       2.0   \n",
       "1caa6fcdb  anyone within the area of ipoh or taiping who ...       3.0   \n",
       "97aa9eeac  Siu Pak just give birth on 13/6/10 to 6puppies...       9.0   \n",
       "c06d167ca  healthy and active, feisty kitten found in nei...       6.0   \n",
       "7a0942d61  Very manja and gentle stray cat found, we woul...       2.0   \n",
       "\n",
       "           AdoptionSpeed  Imagen?  sentiment?  count  Score  Magnitude   \n",
       "PetID                                                                    \n",
       "86e1089a3              2    False       False    NaN    NaN        NaN  \\\n",
       "6296e909a              0    False       False    NaN    NaN        NaN   \n",
       "3422e4906              3    False       False    NaN    NaN        NaN   \n",
       "5842f1ff5              2    False       False    NaN    NaN        NaN   \n",
       "850a43f90              2    False       False    NaN    NaN        NaN   \n",
       "d24c30b4b              2    False       False    NaN    NaN        NaN   \n",
       "1caa6fcdb              1    False       False    NaN    NaN        NaN   \n",
       "97aa9eeac              3    False       False    NaN    NaN        NaN   \n",
       "c06d167ca              1    False       False    NaN    NaN        NaN   \n",
       "7a0942d61              4    False       False    NaN    NaN        NaN   \n",
       "\n",
       "          CountEntity  CountSentences  \n",
       "PetID                                  \n",
       "86e1089a3         NaN             NaN  \n",
       "6296e909a         NaN             NaN  \n",
       "3422e4906         NaN             NaN  \n",
       "5842f1ff5         NaN             NaN  \n",
       "850a43f90         NaN             NaN  \n",
       "d24c30b4b         NaN             NaN  \n",
       "1caa6fcdb         NaN             NaN  \n",
       "97aa9eeac         NaN             NaN  \n",
       "c06d167ca         NaN             NaN  \n",
       "7a0942d61         NaN             NaN  \n",
       "\n",
       "[10 rows x 30 columns]"
      ]
     },
     "execution_count": 11,
     "metadata": {},
     "output_type": "execute_result"
    }
   ],
   "source": [
    "# Para validar (no ejecutar)\n",
    "#Buscar archivo por linea de comando\n",
    "#find . -type f -name \"*86e1089a3*\"\n",
    "#find . -type f -name \"*1bc0f89d8*\"\n",
    "#1bc0f89d8 \n",
    "#train_data[train_data['Imagen?'] == False].head(10)\n",
    "#train_data[train_data['sentiment?'] == True].head(10)\n",
    "train_data.head(10)\n"
   ]
  },
  {
   "cell_type": "markdown",
   "metadata": {},
   "source": [
    "## Pre-procesar Nulos\n",
    "\n",
    "Verificar la existencia de Nulos y decidir como Imputarlos en caso de que existan\n",
    "\n",
    "Verificar la existencia de Ceros u otros valores que puedan indicar que pueden ser perdidos"
   ]
  },
  {
   "cell_type": "markdown",
   "metadata": {},
   "source": [
    "### Nulos"
   ]
  },
  {
   "cell_type": "code",
   "execution_count": 12,
   "metadata": {},
   "outputs": [
    {
     "data": {
      "text/plain": [
       "Name               1265\n",
       "Description          13\n",
       "count             14993\n",
       "Score             14993\n",
       "Magnitude         14993\n",
       "CountEntity       14993\n",
       "CountSentences    14993\n",
       "dtype: int64"
      ]
     },
     "execution_count": 12,
     "metadata": {},
     "output_type": "execute_result"
    }
   ],
   "source": [
    "#Verificar la existencia de Nulos en train_date y decidir como Imputarlos en caso de que existan\n",
    "rta = train_data.isnull().sum()\n",
    "#imprimir solo los que tienen nulos\n",
    "rta[rta > 0]"
   ]
  },
  {
   "cell_type": "markdown",
   "metadata": {},
   "source": [
    "*count es cantidad de imagen\n",
    "\n",
    "Los nombres tienen null (esto no seria un problema). Por otro lado el resto de las variables que estan null son las variables que generamos desde los archivos, es decir, tienen null porque no poseen archivo para esos PetID."
   ]
  },
  {
   "cell_type": "markdown",
   "metadata": {},
   "source": [
    "### Ceros"
   ]
  },
  {
   "cell_type": "code",
   "execution_count": 13,
   "metadata": {},
   "outputs": [
    {
     "data": {
      "text/plain": [
       "Age                179\n",
       "Breed1               5\n",
       "Breed2           10762\n",
       "Color2            4471\n",
       "Color3           10604\n",
       "Fee              12663\n",
       "VideoAmt         14419\n",
       "PhotoAmt           341\n",
       "AdoptionSpeed      410\n",
       "Imagen?          14993\n",
       "sentiment?       14993\n",
       "dtype: int64"
      ]
     },
     "execution_count": 13,
     "metadata": {},
     "output_type": "execute_result"
    }
   ],
   "source": [
    "#Verificar la existencia de ceros en train_date y decidir como Imputarlos en caso de que existan\n",
    "rta = (train_data == 0).sum()\n",
    "#imprimir solo los que tienen ceros\n",
    "rta[rta > 0]"
   ]
  },
  {
   "cell_type": "markdown",
   "metadata": {},
   "source": [
    "| Variable|Cantida Cero | Observacion\n",
    "| ----------------|-------|--------------\n",
    "| Age             |   179 | (Valor posible) \n",
    "| Breed1          |     5 | No existe descripcion para estos casos\n",
    "| Breed2          | 10762 | No existe descripcion para estos casos\n",
    "| Color2          |  4471 | No existe descripcion para estos casos\n",
    "| Color3          | 10604 | No existe descripcion para estos casos\n",
    "| Fee             | 12663 | (Valor posible) Fee - Adoption fee (0 = Free)\n",
    "| VideoAmt        | 14419 | (Valor posible) Videos subidos para la mascota\n",
    "| PhotoAmt        |   341 | (Valor posible) Fotos subidos para la mascota\n",
    "| AdoptionSpeed   |   410 | (Valor posible)\n",
    "| Imagen?         |   341 | (Valor posible)\n",
    "| sentiment?      |   551 | (Valor posible)\n",
    "| Score           |  2328 | (Valor posible)\n",
    "| Magnitude       |   596 | (Valor posible)\n",
    "| CountEntity     |   273 | (Valor posible)"
   ]
  },
  {
   "cell_type": "code",
   "execution_count": 14,
   "metadata": {},
   "outputs": [
    {
     "data": {
      "text/plain": [
       "<Axes: >"
      ]
     },
     "execution_count": 14,
     "metadata": {},
     "output_type": "execute_result"
    },
    {
     "data": {
      "image/png": "[encoded data removed]",
      "text/plain": [
       "<Figure size 640x480 with 1 Axes>"
      ]
     },
     "metadata": {},
     "output_type": "display_data"
    }
   ],
   "source": [
    "#graficar la distribucion de la variable a Age y un diagrama de caja y bigotes\n",
    "#Quiero que el grafico sea animado\n",
    "#https://towardsdatascience.com/creating-animated-gif-using-python-opencv-31f5bbf27d9c\n",
    "#https://stackoverflow.com/questions/44947505/how-to-make-a-gif-loop-in-python\n",
    "#https://stackoverflow.com/questions/753190/programmatically-generate-video-or-animated-gif-in-python   \n",
    "\n",
    "train_data['Age'].hist(bins=100)\n",
    "train_data.boxplot(column=['Age'])"
   ]
  },
  {
   "cell_type": "code",
   "execution_count": 15,
   "metadata": {},
   "outputs": [
    {
     "name": "stdout",
     "output_type": "stream",
     "text": [
      "Cantidad de registros: 14993\n",
      "Cantidad de registros con imagen: 0\n",
      "Cantidad de registros sin imagen: 14993\n",
      "Cantidad de registros con sentimientos: 0\n",
      "Cantidad de registros sin sentimientos: 14993\n"
     ]
    }
   ],
   "source": [
    "# generar una tabla resumen de train_data con cantidad de registros, cantidad de requistros que poseen imagen (imagen?) y cantidad de registros que poseen sentimientos (sentiment?)\n",
    "\n",
    "cantidadRegistros = train_data.shape[0]\n",
    "print(f'Cantidad de registros: {cantidadRegistros}')\n",
    "print(f'Cantidad de registros con imagen: {train_data[\"Imagen?\"].sum()}')\n",
    "print(f'Cantidad de registros sin imagen: {cantidadRegistros - train_data[\"Imagen?\"].sum()}')\n",
    "print(f'Cantidad de registros con sentimientos: {train_data[\"sentiment?\"].sum()}')\n",
    "print(f'Cantidad de registros sin sentimientos: {cantidadRegistros - train_data[\"sentiment?\"].sum()}')"
   ]
  },
  {
   "cell_type": "code",
   "execution_count": 16,
   "metadata": {},
   "outputs": [],
   "source": [
    "#import dtale\n",
    "#dtale.show(train_data)\n",
    "#http://localhost:40000/\n"
   ]
  }
 ],
 "metadata": {
  "kernelspec": {
   "display_name": "lab2",
   "language": "python",
   "name": "python3"
  },
  "language_info": {
   "codemirror_mode": {
    "name": "ipython",
    "version": 3
   },
   "file_extension": ".py",
   "mimetype": "text/x-python",
   "name": "python",
   "nbconvert_exporter": "python",
   "pygments_lexer": "ipython3",
   "version": "3.11.4"
  },
  "orig_nbformat": 4
 },
 "nbformat": 4,
 "nbformat_minor": 2
}
