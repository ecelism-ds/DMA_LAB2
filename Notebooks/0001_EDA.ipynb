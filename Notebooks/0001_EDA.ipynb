{
 "cells": [
  {
   "cell_type": "markdown",
   "metadata": {},
   "source": [
    "# Importo librerias"
   ]
  },
  {
   "cell_type": "code",
   "execution_count": null,
   "metadata": {},
   "outputs": [],
   "source": []
  },
  {
   "cell_type": "code",
   "execution_count": 1,
   "metadata": {},
   "outputs": [
    {
     "ename": "ModuleNotFoundError",
     "evalue": "No module named 'model_metadata'",
     "output_type": "error",
     "traceback": [
      "\u001b[1;31m---------------------------------------------------------------------------\u001b[0m",
      "\u001b[1;31mModuleNotFoundError\u001b[0m                       Traceback (most recent call last)",
      "\u001b[1;32mc:\\lab02\\DMA_LAB2\\Notebooks\\0001_EDA.ipynb Cell 3\u001b[0m line \u001b[0;36m8\n\u001b[0;32m      <a href='vscode-notebook-cell:/c%3A/lab02/DMA_LAB2/Notebooks/0001_EDA.ipynb#W2sZmlsZQ%3D%3D?line=4'>5</a>\u001b[0m \u001b[39mimport\u001b[39;00m \u001b[39mglob\u001b[39;00m \u001b[39m# Para listar los archivos en una carpeta\u001b[39;00m\n\u001b[0;32m      <a href='vscode-notebook-cell:/c%3A/lab02/DMA_LAB2/Notebooks/0001_EDA.ipynb#W2sZmlsZQ%3D%3D?line=6'>7</a>\u001b[0m \u001b[39m# Librerias propias (contienen los modelos)\u001b[39;00m\n\u001b[1;32m----> <a href='vscode-notebook-cell:/c%3A/lab02/DMA_LAB2/Notebooks/0001_EDA.ipynb#W2sZmlsZQ%3D%3D?line=7'>8</a>\u001b[0m \u001b[39mimport\u001b[39;00m \u001b[39mmodel_metadata\u001b[39;00m\n\u001b[0;32m      <a href='vscode-notebook-cell:/c%3A/lab02/DMA_LAB2/Notebooks/0001_EDA.ipynb#W2sZmlsZQ%3D%3D?line=8'>9</a>\u001b[0m \u001b[39mimport\u001b[39;00m \u001b[39mmodel_sentiment\u001b[39;00m\n",
      "\u001b[1;31mModuleNotFoundError\u001b[0m: No module named 'model_metadata'"
     ]
    }
   ],
   "source": [
    "import numpy as np \n",
    "import pandas as pd \n",
    "# import cv2 # Para cargar/mostrar/procesar imagenes\n",
    "import json\n",
    "import glob # Para listar los archivos en una carpeta\n",
    "\n",
    "# Librerias propias (contienen los modelos)\n",
    "import model_metadata\n",
    "import model_sentiment\n",
    "\n"
   ]
  },
  {
   "cell_type": "markdown",
   "metadata": {},
   "source": [
    "# Codigo Auxiliar"
   ]
  },
  {
   "cell_type": "code",
   "execution_count": 53,
   "metadata": {},
   "outputs": [
    {
     "ename": "NameError",
     "evalue": "name 'ProfileReport' is not defined",
     "output_type": "error",
     "traceback": [
      "\u001b[0;31m---------------------------------------------------------------------------\u001b[0m",
      "\u001b[0;31mNameError\u001b[0m                                 Traceback (most recent call last)",
      "\u001b[1;32m/Volumes/GEROEXT/MCD/Labo2/Notebooks/0001_EDA.ipynb Cell 4\u001b[0m line \u001b[0;36m4\n\u001b[1;32m      <a href='vscode-notebook-cell:/Volumes/GEROEXT/MCD/Labo2/Notebooks/0001_EDA.ipynb#W3sZmlsZQ%3D%3D?line=1'>2</a>\u001b[0m \u001b[39mimport\u001b[39;00m \u001b[39mimportlib\u001b[39;00m\n\u001b[1;32m      <a href='vscode-notebook-cell:/Volumes/GEROEXT/MCD/Labo2/Notebooks/0001_EDA.ipynb#W3sZmlsZQ%3D%3D?line=2'>3</a>\u001b[0m \u001b[39m#importlib.reload(model_sentiment)\u001b[39;00m\n\u001b[0;32m----> <a href='vscode-notebook-cell:/Volumes/GEROEXT/MCD/Labo2/Notebooks/0001_EDA.ipynb#W3sZmlsZQ%3D%3D?line=3'>4</a>\u001b[0m importlib\u001b[39m.\u001b[39mreload(ProfileReport)\n",
      "\u001b[0;31mNameError\u001b[0m: name 'ProfileReport' is not defined"
     ]
    }
   ],
   "source": [
    "#Para borrar la cache de las librerias propias\n",
    "#import importlib\n",
    "#importlib.reload(model_sentiment)\n",
    "#importlib.reload(model_metadata)"
   ]
  },
  {
   "cell_type": "markdown",
   "metadata": {},
   "source": [
    "# Cargo archivos"
   ]
  },
  {
   "cell_type": "markdown",
   "metadata": {},
   "source": [
    "## Primer analisis:\n",
    "\n",
    "Cargo el dataset completo y para el ID **0a0e8c15b** cargo las imagenes que tiene, metadata de las imagenes y analisis de sentimiento de la descripcion."
   ]
  },
  {
   "cell_type": "code",
   "execution_count": 34,
   "metadata": {},
   "outputs": [],
   "source": [
    "#No ejecutar\n",
    "# Cargar CSV train de carpeta data/train/train.csv\n",
    "train_data = pd.read_csv('../data/train/train.csv', index_col='PetID')\n",
    "train_image_1 = cv2.imread('../data/train_images/0a0e8c15b-1.jpg')\n",
    "train_image_2 = cv2.imread('../data/train_images/0a0e8c15b-2.jpg')\n",
    "with open('../data/train_metadata/0a0e8c15b-1.json', 'r') as archivo:\n",
    "    # Carga el contenido del archivo JSON en un diccionario\n",
    "    train_metadata_1 = json.load(archivo)\n",
    "with open('../data/train_metadata/0a0e8c15b-2.json', 'r') as archivo:\n",
    "    # Carga el contenido del archivo JSON en un diccionario\n",
    "    train_metadata_2 = json.load(archivo)\n",
    "with open('../data/train_sentiment/0a0e8c15b.json', 'r') as archivo:\n",
    "    # Carga el contenido del archivo JSON en un diccionario\n",
    "    train_sentiment = json.load(archivo)"
   ]
  },
  {
   "cell_type": "markdown",
   "metadata": {},
   "source": [
    "Creo una funcion para importar los archivos json a una lista. Los archivos los modelo y los inserto en una lista."
   ]
  },
  {
   "cell_type": "code",
   "execution_count": 2,
   "metadata": {},
   "outputs": [],
   "source": [
    "def getModel(model, listFileFullPath):\n",
    "    '''model = clase del modelo que se quiere cargar (objeto)\n",
    "    listFullPath = ruta completa de los archivos a cargar (List[string])\n",
    "    '''\n",
    "    #f_train_metadata = glob.glob('../data/train_metadata/*.json')\n",
    "    #f_train_sentiments = glob.glob('../data/train_sentiment/*.json')\n",
    "\n",
    "    listObject = []\n",
    "    for file in listFileFullPath:\n",
    "        \n",
    "        file_json = None\n",
    "        objectModel = None\n",
    "        \n",
    "        with open(file, 'r') as archivo:\n",
    "            file_json = json.load(archivo)    \n",
    "\n",
    "        fileName = file.split('/')[-1]\n",
    "        file_json['fileName'] = fileName\n",
    "        file_json['PetID'] = fileName.split('.')[0].split('-')[0]\n",
    "        objectModel = model.Model(**file_json)\n",
    "        listObject.append(objectModel)\n",
    "\n",
    "    return listObject "
   ]
  },
  {
   "cell_type": "code",
   "execution_count": 3,
   "metadata": {},
   "outputs": [],
   "source": [
    "train_data = pd.read_csv('../data/train/train.csv', index_col='PetID')"
   ]
  },
  {
   "cell_type": "code",
   "execution_count": 4,
   "metadata": {},
   "outputs": [],
   "source": [
    "#train_data = pd.read_csv('../data/train/train.csv', index_col='PetID')\n",
    "f_train_metadata = glob.glob('../data/train_metadata/*.json')\n",
    "f_train_sentiments = glob.glob('../data/train_sentiment/*.json')\n",
    "\n",
    "list_metadata = getModel(model_metadata, f_train_metadata)\n",
    "list_sentiments = getModel(model_sentiment, f_train_sentiments)\n",
    "\n",
    "del f_train_metadata\n",
    "del f_train_sentiments"
   ]
  },
  {
   "cell_type": "markdown",
   "metadata": {},
   "source": [
    "## Unifico dataset e informacion extra\n",
    "\n",
    "En esta seccion vamos a agregar informacion exta al dataset original. Vamos a agregar las siguientes variables:\n",
    "\n",
    "De la imagen:\n",
    "\n",
    "1. Imagen? [SI/NO] Si la mascata tiene imagen 1 sino 0.\n",
    "2. ImagenCantidad Cantidad de imagenes que posee la mascota\n",
    "\n",
    "Del Comentario:\n",
    "1. magnitude\n",
    "2. score\n",
    "3. Cantidad de sentencias\n",
    "4. EntidadCantidad\n",
    "5. Entidad por tipo (son varias columnas)\n",
    "6. El nombre de la mascota figura como entidad?\n",
    "\n",
    "Datos descriptivos:\n",
    "1. Agregar Beed\n",
    "2. Agregar Color\n",
    "3. Agregar PetFinder\n",
    "4. Agregar state\n"
   ]
  },
  {
   "cell_type": "code",
   "execution_count": 12,
   "metadata": {},
   "outputs": [
    {
     "data": {
      "text/plain": [
       "'924cc5438-2.json'"
      ]
     },
     "execution_count": 12,
     "metadata": {},
     "output_type": "execute_result"
    }
   ],
   "source": [
    "len(list_metadata) #58311\n",
    "len(list_sentiments) #14442\n",
    "\n",
    "list_metadata[10].fileName\n"
   ]
  },
  {
   "cell_type": "code",
   "execution_count": 5,
   "metadata": {},
   "outputs": [],
   "source": [
    "getPetID = lambda x: x.PetID\n",
    "getPetID_vec = np.vectorize(getPetID)"
   ]
  },
  {
   "cell_type": "code",
   "execution_count": 6,
   "metadata": {},
   "outputs": [],
   "source": [
    "#Si tiene o no imagen\n",
    "train_data['Imagen?'] = train_data.index.isin(getPetID_vec(list_metadata))\n",
    "train_data['sentiment?'] = train_data.index.isin(getPetID_vec(list_sentiments))"
   ]
  },
  {
   "cell_type": "code",
   "execution_count": null,
   "metadata": {},
   "outputs": [],
   "source": [
    "# Para validar (no ejecutar)\n",
    "#Buscar archivo por linea de comando\n",
    "#find . -type f -name \"*86e1089a3*\"\n",
    "#find . -type f -name \"*1bc0f89d8*\"\n",
    "#1bc0f89d8 \n",
    "#train_data[train_data['Imagen?'] == False].head(10)\n",
    "train_data[train_data['sentiment?'] == True].head(10)\n"
   ]
  },
  {
   "cell_type": "code",
   "execution_count": 7,
   "metadata": {},
   "outputs": [],
   "source": [
    "#Busco la cantidad de imagenes y las agrego al DF original\n",
    "df = pd.DataFrame(getPetID_vec(list_metadata))\n",
    "df = df[0].value_counts()\n",
    "df.columns = ['PetID', 'CountImagen']\n",
    "train_data = train_data.join(df, on='PetID', how='left', lsuffix='_left', rsuffix='_right')\n",
    "del df"
   ]
  },
  {
   "cell_type": "code",
   "execution_count": null,
   "metadata": {},
   "outputs": [],
   "source": [
    "train_data.head()"
   ]
  },
  {
   "cell_type": "code",
   "execution_count": 45,
   "metadata": {},
   "outputs": [],
   "source": [
    "#1. magnitude\n",
    "#2. score\n",
    "#3. Cantidad de sentencias\n",
    "#4. EntidadCantidad\n",
    "\n",
    "getScore = lambda x: x.documentSentiment.score\n",
    "getScore_vec = np.vectorize(getScore)\n",
    "\n",
    "getMagnitude = lambda x: x.documentSentiment.magnitude\n",
    "getMagnitude_vec = np.vectorize(getMagnitude)\n",
    "\n",
    "getLenEntity = lambda x: len(x.entities)\n",
    "getLenEntity_vec = np.vectorize(getLenEntity)\n",
    "\n",
    "getLenSentences = lambda x: len(x.sentences)\n",
    "getLenSentences_vec = np.vectorize(getLenSentences)\n",
    "\n"
   ]
  },
  {
   "cell_type": "code",
   "execution_count": 46,
   "metadata": {},
   "outputs": [],
   "source": [
    "df = pd.DataFrame(getScore_vec(list_sentiments), index=getPetID_vec(list_sentiments))\n",
    "#df = df[0].value_counts()\n",
    "df.columns = ['Score']\n",
    "train_data = train_data.join(df, on='PetID', how='left', lsuffix='_left', rsuffix='_right')\n",
    "del df\n",
    "\n",
    "\n",
    "df = pd.DataFrame(getMagnitude_vec(list_sentiments), index=getPetID_vec(list_sentiments))\n",
    "#df = df[0].value_counts()\n",
    "df.columns = ['Magnitude']\n",
    "train_data = train_data.join(df, on='PetID', how='left', lsuffix='_left', rsuffix='_right')\n",
    "del df\n",
    "\n",
    "df = pd.DataFrame(getLenEntity_vec(list_sentiments), index=getPetID_vec(list_sentiments))\n",
    "#df = df[0].value_counts()\n",
    "df.columns = ['CountEntity']\n",
    "train_data = train_data.join(df, on='PetID', how='left', lsuffix='_left', rsuffix='_right')\n",
    "del df\n",
    "\n",
    "df = pd.DataFrame(getLenSentences_vec(list_sentiments), index=getPetID_vec(list_sentiments))\n",
    "#df = df[0].value_counts()\n",
    "df.columns = ['CountSentences']\n",
    "train_data = train_data.join(df, on='PetID', how='left', lsuffix='_left', rsuffix='_right')\n",
    "del df\n",
    "\n"
   ]
  },
  {
   "cell_type": "code",
   "execution_count": null,
   "metadata": {},
   "outputs": [],
   "source": [
    "#from pandas_profiling import ProfileReport\n",
    "# prof = ProfileReport(train_data, title=\"Pandas Profiling Report\", explorative=True)\n",
    "# prof.to_file(output_file='../output/output.html')\n",
    "\n",
    "from ydata_profiling import ProfileReport\n",
    "profile = ProfileReport(df, title=\"Profiling Report\")\n",
    "profile.to_file(output_file='../output/output.html')\n"
   ]
  },
  {
   "cell_type": "code",
   "execution_count": null,
   "metadata": {},
   "outputs": [],
   "source": [
    "#Analisis\n",
    "#Age ==> outliers valor=255\n"
   ]
  },
  {
   "cell_type": "code",
   "execution_count": null,
   "metadata": {},
   "outputs": [],
   "source": [
    "#import dtale\n",
    "#dtale.show(train_data)\n",
    "#http://localhost:40000/\n"
   ]
  }
 ],
 "metadata": {
  "kernelspec": {
   "display_name": "lab2",
   "language": "python",
   "name": "python3"
  },
  "language_info": {
   "codemirror_mode": {
    "name": "ipython",
    "version": 3
   },
   "file_extension": ".py",
   "mimetype": "text/x-python",
   "name": "python",
   "nbconvert_exporter": "python",
   "pygments_lexer": "ipython3",
   "version": "3.11.3"
  },
  "orig_nbformat": 4
 },
 "nbformat": 4,
 "nbformat_minor": 2
}
